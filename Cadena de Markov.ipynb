{
  "metadata": {
    "kernelspec": {
      "name": "python",
      "display_name": "Python (Pyodide)",
      "language": "python"
    },
    "language_info": {
      "codemirror_mode": {
        "name": "python",
        "version": 3
      },
      "file_extension": ".py",
      "mimetype": "text/x-python",
      "name": "python",
      "nbconvert_exporter": "python",
      "pygments_lexer": "ipython3",
      "version": "3.8"
    }
  },
  "nbformat_minor": 5,
  "nbformat": 4,
  "cells": [
    {
      "id": "5564087e-1559-4787-be23-759fe5429659",
      "cell_type": "markdown",
      "source": "# Cadena de Markov\nDamián Lugo 10149601",
      "metadata": {}
    },
    {
      "id": "bef53fe3-20ff-4678-a1e8-7cb5889b145d",
      "cell_type": "markdown",
      "source": "# Introduccion\n\nEn las redes móviles, el acceso aleatorio permite que un equipo de usuario (UE) solicite acceso al canal cuando no tiene una conexión establecida. Este procedimiento ocurre a través del Random Access Channel (RACH) y suele implicar el envío de un preámbulo por parte del UE, esperando una respuesta del nodo base.\n\nDebido a la naturaleza no coordinada del acceso, pueden ocurrir colisiones si varios UEs eligen el mismo preámbulo en la misma oportunidad. Por eso, los protocolos permiten reintentos limitados, con un tiempo de espera entre ellos.\n\nEste proceso puede modelarse eficazmente con una cadena de Markov, en la que los estados representan los intentos del UE y las transiciones reflejan la probabilidad de éxito o colisión. La cadena incluye estados absorbentes (Éxito, Fracaso) que representan el fin del procedimiento.\n\nAnalizar este modelo permite:\nEstimar la probabilidad de éxito o fracaso de acceso, calcular el número medio de intentos por UE, comprender cómo la probabilidad acumulada de colisión crece rápidamente, un fenómeno similar a la paradoja del cumpleaños, donde pequeñas probabilidades individuales generan altas probabilidades de coincidencia en conjunto.\n\nEste tipo de análisis es fundamental para dimensionar y optimizar protocolos de acceso en redes móviles congestionadas.",
      "metadata": {}
    },
    {
      "id": "aacd0218-f095-4b2b-85f2-802c65bf0646",
      "cell_type": "markdown",
      "source": "# Análisis del Acceso Aleatorio con Cadenas de Markov\n\nEn este notebook se modela el proceso de acceso aleatorio en el canal RACH de una red móvil utilizando una **cadena de Markov**. Un equipo de usuario (UE) dispone de hasta **tres intentos** para acceder, con una probabilidad de:\n\n- Éxito: 60%\n- Colisión: 40% (otro UE eligió el mismo preámbulo)\n\nDespués de tres colisiones, el UE abandona (fracaso). Se calculan:\n\n- Probabilidad de éxito y fracaso\n- Número medio de intentos\n- Comparación entre simulación y análisis teórico",
      "metadata": {}
    },
    {
      "id": "0853a93f-5c6e-4bec-9094-902e306daccb",
      "cell_type": "code",
      "source": "import numpy as np\n\np = 0.60\nq = 1 - p\n\nP = np.array([[ 0.0,  q,   0.0,  p,   0.0],\n              [ 0.0, 0.0,   q,   p,   0.0],\n              [ 0.0, 0.0,  0.0,  p,    q ],\n              [ 0.0, 0.0,  0.0, 1.0,  0.0],\n              [ 0.0, 0.0,  0.0, 0.0,  1.0]])\n",
      "metadata": {
        "trusted": true
      },
      "outputs": [],
      "execution_count": 1
    },
    {
      "id": "c8423ed8-65b7-4952-80c9-03cddac4a4e1",
      "cell_type": "markdown",
      "source": "Preparamos las matrices necesarias para aplicar la teoría de cadenas absorbentes.\n\nPrimero, extraigo de la matriz de transición completa P la submatriz Q, que representa las transiciones entre los estados transitorios: es decir, entre los estados S₀ (1er intento), S₁ (2do intento) y S₂ (3er intento). Esta submatriz contiene las probabilidades de pasar de un intento a otro, sin alcanzar aún el éxito o el fracaso.\n\nLuego, extraigo la submatriz R, que contiene las probabilidades de pasar de un estado transitorio a un estado absorbente (Éxito o Fracaso). Por ejemplo, desde S₀ se puede ir directamente a Éxito si el intento tiene éxito.\n\nFinalmente, creo la matriz identidad I de tamaño 3×3, que corresponde al número de estados transitorios. Esta matriz es necesaria para construir la matriz fundamental que utilizo en los siguientes pasos para calcular los valores esperados y las probabilidades de absorción.",
      "metadata": {}
    },
    {
      "id": "7caca217-01b5-40b1-8f05-1e4acadcfdca",
      "cell_type": "code",
      "source": "Q = P[0:3, 0:3]\nR = P[0:3, 3:5]\nI = np.eye(3)",
      "metadata": {
        "trusted": true
      },
      "outputs": [],
      "execution_count": 2
    },
    {
      "id": "406d6711-4713-4888-9a38-875390751002",
      "cell_type": "markdown",
      "source": "calculamos la matriz fundamental de la cadena de Markov, que nos indica cuántas veces, en promedio, el proceso pasa por cada estado de intento (S₀, S₁, S₂) antes de terminar en Éxito o Fracaso. Esta matriz resume el comportamiento de los usuarios mientras siguen intentando acceder al canal. A partir de ella, más adelante podemos calcular tanto las probabilidades de éxito o fracaso como el número medio de intentos.",
      "metadata": {}
    },
    {
      "id": "5aad7445-148a-49fd-bb3b-437668492a14",
      "cell_type": "code",
      "source": "N = np.linalg.inv(I - Q)",
      "metadata": {
        "trusted": true
      },
      "outputs": [],
      "execution_count": 3
    },
    {
      "id": "293d0557-9fe4-4240-85cb-1e15c1d7dfaf",
      "cell_type": "markdown",
      "source": "calculamos la matriz de absorción, que nos permite saber con qué probabilidad un usuario terminará en cada uno de los estados finales (Éxito o Fracaso), dependiendo del estado desde el que empieza. En particular, extraemos la primera fila porque todos los usuarios comienzan en el primer intento (S₀). Así, obtenemos la probabilidad analítica de éxito y la probabilidad analítica de fracaso para un usuario típico. Estos valores nos dicen qué tan eficiente es el proceso de acceso aleatorio bajo las condiciones del modelo.",
      "metadata": {}
    },
    {
      "id": "12a9d19c-8446-40c8-b9e5-1049fd613984",
      "cell_type": "code",
      "source": "B = N @ R\nprob_exito_analitico = B[0, 0]\nprob_fracaso_analitico = B[0, 1]",
      "metadata": {
        "trusted": true
      },
      "outputs": [],
      "execution_count": 4
    },
    {
      "id": "73981725-10f2-4e2c-93c4-d10688a83f32",
      "cell_type": "markdown",
      "source": "Transformamos la información de la matriz fundamental 𝑁 en un número único, el promedio de intentos hasta terminar. Multiplicar 𝑁 por un vector columna de unos (np.ones((3, 1))) suma las visitas esperadas a cada estado transitorio; el resultado es un vector t donde cada componente 𝑡𝑖 indica cuántos pasos se darán, en promedio, si se empieza en el estado 𝑆𝑖\nTomamos la primera entrada t[0, 0] porque el proceso siempre arranca en 𝑆0 ese valor (intentos_esperados_analitico) es el número medio de intentos que hará un UE desde su primer intento hasta que sea absorbido en Éxito o Fracaso.",
      "metadata": {}
    },
    {
      "id": "3b670fa7-3b83-42a0-a7e9-0b9410226cb2",
      "cell_type": "code",
      "source": "t = N @ np.ones((3, 1))\nintentos_esperados_analitico = t[0, 0]",
      "metadata": {
        "trusted": true
      },
      "outputs": [],
      "execution_count": 5
    },
    {
      "id": "17690fd5-5bbe-4c40-b25e-1cd813d8a670",
      "cell_type": "markdown",
      "source": "Primero, decido simular un total de un millón de usuarios (UEs) que intentan acceder al canal de acceso aleatorio. Este número grande me permite obtener estimaciones estadísticas muy precisas de las probabilidades y promedios que quiero medir.\n\nLuego, creo un generador de números aleatorios con una semilla fija (42) para asegurar que la simulación sea reproducible. Esto significa que si vuelvo a ejecutar el experimento con el mismo código y la misma semilla, obtendré los mismos resultados, lo cual es útil para validar y comparar los datos obtenidos.\n\nFinalmente, inicializo tres contadores: uno para registrar cuántos usuarios logran el acceso con éxito, otro para contar cuántos fracasan después de agotar sus tres intentos, y un tercero para acumular el número total de intentos realizados entre todos los usuarios. Estos contadores se irán actualizando conforme simulo cada UE, y al final me permitirán calcular métricas como la probabilidad de éxito y el número promedio de intentos por usuario.",
      "metadata": {}
    },
    {
      "id": "e5e1d8bf-4175-4bc5-8df6-b4662590e1c8",
      "cell_type": "code",
      "source": "N_UEs = 1_000_000\nrng = np.random.default_rng(42)\n\nexitos_sim = 0\nfracasos_sim = 0\ntotal_intentos = 0",
      "metadata": {
        "trusted": true
      },
      "outputs": [],
      "execution_count": 6
    },
    {
      "id": "39fffb3d-492e-4dda-8227-529c6b4171e3",
      "cell_type": "markdown",
      "source": "En esta parte del código, simulo el comportamiento de cada uno de los usuarios, uno por uno. Para cada UE, les doy como máximo tres intentos para acceder con éxito al canal, tal como lo define el sistema.\n\nDentro del bucle interno, cada intento del usuario se cuenta como un paso, por lo que incremento el contador de intentos totales. Luego, genero un número aleatorio entre 0 y 1 y lo comparo con la probabilidad de éxito p. Si el número es menor que p, significa que el intento fue exitoso, así que sumo uno al contador de éxitos y termino el ciclo para ese usuario.\n\nSi no tuvo éxito, el proceso pasa al siguiente intento. Si llega al tercer intento y también falla, entonces considero que ese usuario ha fracasado definitivamente, y por eso incremento el contador de fracasos. Así, al finalizar esta simulación para todos los usuarios, tendré los totales necesarios para estimar las métricas principales del sistema: la probabilidad de éxito, de fracaso y el promedio de intentos por usuario.",
      "metadata": {}
    },
    {
      "id": "5f726487-3ea7-4e9c-896b-274cd1a25f96",
      "cell_type": "code",
      "source": "for _ in range(N_UEs):\n    for intento in range(1, 4):\n        total_intentos += 1\n        if rng.random() < p:\n            exitos_sim += 1\n            break\n        elif intento == 3:\n            fracasos_sim += 1",
      "metadata": {
        "trusted": true
      },
      "outputs": [],
      "execution_count": 7
    },
    {
      "id": "a70be7a4-f018-4daf-b124-9bbe786ba44c",
      "cell_type": "markdown",
      "source": "Con estas tres expresiones, calculo los resultados finales de la simulación a partir de los contadores que fui acumulando.\n\nPrimero, divido la cantidad total de usuarios que tuvieron éxito entre el número total de usuarios simulados, para obtener la probabilidad estimada de éxito. Hago lo mismo con los fracasos para obtener la probabilidad estimada de fracaso. Como todos los usuarios terminan en uno de estos dos estados, estas dos probabilidades deben sumar muy cerca de 1.\n\nFinalmente, divido el número total de intentos realizados por todos los usuarios entre la cantidad de usuarios simulados, lo que me da el número medio de intentos por usuario. Esta cifra incluye tanto a los que tuvieron éxito como a los que fracasaron, y refleja la carga promedio que genera el sistema de acceso aleatorio.",
      "metadata": {}
    },
    {
      "id": "52393e98-6f72-4317-8825-95a0829da1f6",
      "cell_type": "code",
      "source": "prob_exito_sim = exitos_sim / N_UEs\nprob_fracaso_sim = fracasos_sim / N_UEs\nintentos_medios_sim = total_intentos / N_UEs",
      "metadata": {
        "trusted": true
      },
      "outputs": [],
      "execution_count": 8
    },
    {
      "id": "3dbda64c-62b1-41ae-a228-da6cb9481c1c",
      "cell_type": "markdown",
      "source": "imprimo los resultados analíticos que obtuve usando la teoría de cadenas de Markov. Estos valores provienen de cálculos exactos basados en álgebra matricial, sin simulación.\n\nPrimero muestro la probabilidad de éxito, es decir, la probabilidad de que un usuario complete el procedimiento de acceso aleatorio antes de agotar sus tres intentos. Luego imprimo la probabilidad de fracaso, que corresponde a los usuarios que no lograron el acceso ni en el primer, segundo ni tercer intento. Finalmente, presento el número esperado de intentos por usuario, incluyendo tanto a los que lograron el acceso como a los que fallaron.\n\nEstos resultados sirven como referencia para comparar con los datos obtenidos en la simulación, y así validar que el modelo teórico y la simulación son coherentes entre sí.",
      "metadata": {}
    },
    {
      "id": "1b80eb78-b777-490d-ac78-25a8ec157d4c",
      "cell_type": "code",
      "source": "print(\"=== Resultados analíticos ===\")\nprint(f\"Probabilidad de Éxito  : {prob_exito_analitico:.6f}\")\nprint(f\"Probabilidad de Fracaso: {prob_fracaso_analitico:.6f}\")\nprint(f\"Intentos esperados     : {intentos_esperados_analitico:.6f}\")",
      "metadata": {
        "trusted": true
      },
      "outputs": [
        {
          "name": "stdout",
          "output_type": "stream",
          "text": "=== Resultados analíticos ===\nProbabilidad de Éxito  : 0.936000\nProbabilidad de Fracaso: 0.064000\nIntentos esperados     : 1.560000\n"
        }
      ],
      "execution_count": 9
    },
    {
      "id": "611294fa-812a-47fa-8ca7-85d47cc681d7",
      "cell_type": "markdown",
      "source": "En esta última parte, presento los **resultados obtenidos a partir de la simulación** de un millón de usuarios. Imprimo la **probabilidad de éxito simulada**, es decir, el porcentaje de UEs que lograron acceder al sistema dentro de los tres intentos. También muestro la **probabilidad de fracaso simulada**, que representa a los usuarios que fallaron en los tres intentos consecutivos.\n\nPor último, reporto el **número medio de intentos por usuario** observado durante la simulación. Este valor refleja cuánto carga, en promedio, genera cada UE sobre el canal de acceso, y sirve para comparar directamente con el resultado teórico obtenido mediante el análisis de la cadena de Markov. Si la simulación fue bien implementada, los valores simulados y analíticos deberían ser muy similares.\n",
      "metadata": {}
    },
    {
      "id": "c9ed7107-af21-4c8e-9d07-18750263d949",
      "cell_type": "code",
      "source": "print(\"\\n=== Resultados simulados ===\")\nprint(f\"Probabilidad de Éxito  : {prob_exito_sim:.6f}\")\nprint(f\"Probabilidad de Fracaso: {prob_fracaso_sim:.6f}\")\nprint(f\"Intentos medios        : {intentos_medios_sim:.6f}\")",
      "metadata": {
        "trusted": true
      },
      "outputs": [
        {
          "name": "stdout",
          "output_type": "stream",
          "text": "\n=== Resultados simulados ===\nProbabilidad de Éxito  : 0.935935\nProbabilidad de Fracaso: 0.064065\nIntentos medios        : 1.559299\n"
        }
      ],
      "execution_count": 10
    },
    {
      "id": "79c8a19b-7251-4967-b5cc-b9ad2916f258",
      "cell_type": "markdown",
      "source": "# Conclusion \n\nAl modelar el procedimiento de acceso aleatorio en RACH como una cadena de Markov absorbente, logramos analizar de forma precisa las probabilidades de éxito, fracaso y el número medio de intentos por usuario. La excelente concordancia entre los resultados analíticos y los simulados valida la utilidad de este enfoque. Además, observamos cómo la probabilidad acumulada de colisión crece rápidamente con cada intento, lo cual limita la eficiencia del acceso, especialmente cuando solo se permiten tres oportunidades. Este fenómeno, similar a la paradoja del cumpleaños, evidencia la importancia de gestionar cuidadosamente el acceso masivo para evitar congestión en redes móviles.\n",
      "metadata": {}
    }
  ]
}